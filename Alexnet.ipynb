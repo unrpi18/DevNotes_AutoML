{
  "nbformat": 4,
  "nbformat_minor": 0,
  "metadata": {
    "colab": {
      "provenance": [],
      "gpuType": "T4",
      "authorship_tag": "ABX9TyOGPc3+7uNvq5FWLWijK4Zc"
    },
    "kernelspec": {
      "name": "python3",
      "display_name": "Python 3"
    },
    "language_info": {
      "name": "python"
    },
    "accelerator": "GPU"
  },
  "cells": [
    {
      "cell_type": "code",
      "execution_count": 6,
      "metadata": {
        "colab": {
          "base_uri": "https://localhost:8080/"
        },
        "id": "P0BdQTNkN7tS",
        "outputId": "9e61a9c2-c601-4ed7-e3c3-6a5c25ce30fd"
      },
      "outputs": [
        {
          "output_type": "stream",
          "name": "stdout",
          "text": [
            "Files already downloaded and verified\n",
            "Files already downloaded and verified\n"
          ]
        }
      ],
      "source": [
        "import torch\n",
        "from torchvision import datasets, transforms\n",
        "from torch.utils.data import DataLoader\n",
        "\n",
        "# Define the data preprocessing\n",
        "transform = transforms.Compose([\n",
        "    transforms.Resize(224),  # Resize the image to 224x224 pixels\n",
        "    transforms.ToTensor(),\n",
        "    transforms.Normalize(mean=[0.485, 0.456, 0.406], std=[0.229, 0.224, 0.225]),\n",
        "])\n",
        "\n",
        "# Download and load the CIFAR-10 training and test datasets\n",
        "train_dataset = datasets.CIFAR10(root='./data', train=True, download=True, transform=transform)\n",
        "test_dataset = datasets.CIFAR10(root='./data', train=False, download=True, transform=transform)\n",
        "\n",
        "# Create data loaders\n",
        "train_loader = DataLoader(train_dataset, batch_size=32, shuffle=True)\n",
        "test_loader = DataLoader(test_dataset, batch_size=32, shuffle=False)\n",
        "device = torch.device(\"cuda:0\" if torch.cuda.is_available() else \"cpu\")"
      ]
    },
    {
      "cell_type": "code",
      "source": [
        "import torch.nn as nn\n",
        "class AlexNet_Cus(nn.Module):\n",
        "    def __init__(self, num_classes):\n",
        "        super(AlexNet_Cus, self).__init__()\n",
        "        self.features = nn.Sequential(\n",
        "            # conv1.\n",
        "            nn.Conv2d(3, 96, 11, 4, 2),\n",
        "            # inplace=True 的意思是直接在输入数据上进行修改，而不使用额外的内存来存储输出。\n",
        "            nn.ReLU(inplace=True),\n",
        "            nn.MaxPool2d(kernel_size=3, stride=2),\n",
        "            nn.LocalResponseNorm(size=5, alpha=1e-4, beta=0.75, k=2),\n",
        "\n",
        "            # conv2.\n",
        "            nn.Conv2d(96, 256, 5, 1, 2),\n",
        "            nn.ReLU(inplace=True),\n",
        "            nn.MaxPool2d(kernel_size=3, stride=2),\n",
        "            nn.LocalResponseNorm(size=5, alpha=1e-4, beta=0.75, k=2),\n",
        "\n",
        "            # conv3.\n",
        "            nn.Conv2d(256, 384, 3, 1, 1),\n",
        "            nn.ReLU(inplace=True),\n",
        "            # conv4.\n",
        "            nn.Conv2d(384, 384, 1, 1),\n",
        "            nn.ReLU(inplace=True),\n",
        "            # conv5.\n",
        "            nn.Conv2d(384, 256, 1, 1),\n",
        "            nn.ReLU(inplace=True),\n",
        "            nn.MaxPool2d(kernel_size=3, stride=2)\n",
        "        )\n",
        "        self.avgpool = nn.AdaptiveAvgPool2d((6, 6))\n",
        "        self.classifier = nn.Sequential(\n",
        "            nn.Dropout(p=0.5),\n",
        "            nn.Linear(256 * 6 * 6, 4096),\n",
        "            nn.ReLU(inplace=True),\n",
        "            nn.Dropout(p=0.5),\n",
        "            nn.Linear(4096, 4096),\n",
        "            nn.ReLU(inplace=True),\n",
        "            nn.Linear(4096, num_classes)\n",
        "        )\n",
        "\n",
        "    def forward(self, x):\n",
        "            x = self.features(x)\n",
        "            x = self.avgpool(x)\n",
        "            x = torch.flatten(x, 1)\n",
        "            x = self.classifier(x)\n",
        "            return x"
      ],
      "metadata": {
        "id": "tA7kXYLfPT9n"
      },
      "execution_count": 3,
      "outputs": []
    },
    {
      "cell_type": "code",
      "source": [
        "import torch.optim as optim\n",
        "num_classes = 10\n",
        "model = AlexNet_Cus(num_classes=num_classes).to(device)\n",
        "criterion = nn.CrossEntropyLoss()\n",
        "optimizer = optim.SGD(model.parameters(), lr=0.001, momentum=0.9)"
      ],
      "metadata": {
        "id": "D324rSRtPZtD"
      },
      "execution_count": 7,
      "outputs": []
    },
    {
      "cell_type": "code",
      "source": [
        "num_epochs = 2\n",
        "for epoch in range(num_epochs):  # num_epochs是您想要运行的时期数量\n",
        "    model.train()  # 将模型设置为训练模式\n",
        "    for i, (inputs, labels) in enumerate(train_loader):\n",
        "        inputs = inputs.to(device)\n",
        "        labels = labels.to(device)\n",
        "        optimizer.zero_grad()  # 清空梯度\n",
        "        outputs = model(inputs)  # 前向传播\n",
        "        loss = criterion(outputs, labels)  # 计算损失\n",
        "        loss.backward()  # 反向传播\n",
        "        optimizer.step()  # 更新权重\n",
        "\n",
        "        if (i + 1) % 100 == 0:  # 每100次迭代打印一次状态\n",
        "            print(f'Epoch [{epoch+1}/{num_epochs}], Step [{i+1}/{len(train_loader)}], Loss: {loss.item():.4f}')\n"
      ],
      "metadata": {
        "colab": {
          "base_uri": "https://localhost:8080/"
        },
        "id": "UHgpfZ3TPZn7",
        "outputId": "4274a465-80be-464c-fe34-cc1dbc7918db"
      },
      "execution_count": 9,
      "outputs": [
        {
          "output_type": "stream",
          "name": "stdout",
          "text": [
            "Epoch [1/2], Step [100/1563], Loss: 2.2993\n",
            "Epoch [1/2], Step [200/1563], Loss: 2.2991\n",
            "Epoch [1/2], Step [300/1563], Loss: 2.3029\n",
            "Epoch [1/2], Step [400/1563], Loss: 2.3012\n",
            "Epoch [1/2], Step [500/1563], Loss: 2.3016\n",
            "Epoch [1/2], Step [600/1563], Loss: 2.3007\n",
            "Epoch [1/2], Step [700/1563], Loss: 2.3022\n",
            "Epoch [1/2], Step [800/1563], Loss: 2.3033\n",
            "Epoch [1/2], Step [900/1563], Loss: 2.3068\n",
            "Epoch [1/2], Step [1000/1563], Loss: 2.3012\n",
            "Epoch [1/2], Step [1100/1563], Loss: 2.3013\n",
            "Epoch [1/2], Step [1200/1563], Loss: 2.3020\n",
            "Epoch [1/2], Step [1300/1563], Loss: 2.3009\n",
            "Epoch [1/2], Step [1400/1563], Loss: 2.3019\n",
            "Epoch [1/2], Step [1500/1563], Loss: 2.3012\n",
            "Epoch [2/2], Step [100/1563], Loss: 2.2987\n",
            "Epoch [2/2], Step [200/1563], Loss: 2.3014\n",
            "Epoch [2/2], Step [300/1563], Loss: 2.2969\n",
            "Epoch [2/2], Step [400/1563], Loss: 2.2902\n",
            "Epoch [2/2], Step [500/1563], Loss: 2.2997\n",
            "Epoch [2/2], Step [600/1563], Loss: 2.2918\n",
            "Epoch [2/2], Step [700/1563], Loss: 2.2448\n",
            "Epoch [2/2], Step [800/1563], Loss: 2.1714\n",
            "Epoch [2/2], Step [900/1563], Loss: 2.1901\n",
            "Epoch [2/2], Step [1000/1563], Loss: 2.2445\n",
            "Epoch [2/2], Step [1100/1563], Loss: 1.9646\n",
            "Epoch [2/2], Step [1200/1563], Loss: 2.2821\n",
            "Epoch [2/2], Step [1300/1563], Loss: 2.0412\n",
            "Epoch [2/2], Step [1400/1563], Loss: 1.9343\n",
            "Epoch [2/2], Step [1500/1563], Loss: 1.9574\n"
          ]
        }
      ]
    },
    {
      "cell_type": "code",
      "source": [
        "model.eval()  # 将模型设置为评估模式\n",
        "with torch.no_grad():  # 关闭梯度计算，节省内存和计算资源\n",
        "    correct = 0\n",
        "    total = 0\n",
        "    for images, labels in test_loader:\n",
        "        images, labels = images.to(device), labels.to(device)  # 确保将数据移到CUDA上\n",
        "        outputs = model(images)\n",
        "        _, predicted = torch.max(outputs, 1)  # 不需要再次将输出移到cpu\n",
        "        total += labels.size(0)\n",
        "        correct += (predicted == labels).sum().item()\n",
        "\n",
        "    print('Accuracy of the network on the test images: %d %%' % (100 * correct / total))\n"
      ],
      "metadata": {
        "colab": {
          "base_uri": "https://localhost:8080/"
        },
        "id": "wj-4-WWAPuVi",
        "outputId": "0a95d9a7-144c-41ae-b8a1-9b555dcb32e9"
      },
      "execution_count": 12,
      "outputs": [
        {
          "output_type": "stream",
          "name": "stdout",
          "text": [
            "Accuracy of the network on the test images: 31 %\n"
          ]
        }
      ]
    },
    {
      "cell_type": "code",
      "source": [],
      "metadata": {
        "id": "1zRNO0cYPuQZ"
      },
      "execution_count": null,
      "outputs": []
    }
  ]
}